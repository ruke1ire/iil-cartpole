{
 "cells": [
  {
   "cell_type": "code",
   "execution_count": 1,
   "id": "026d319a-34bd-4972-a768-b859e51d20bc",
   "metadata": {},
   "outputs": [],
   "source": [
    "import pickle"
   ]
  },
  {
   "cell_type": "code",
   "execution_count": 8,
   "id": "58ad7a48-6b63-4edd-98b4-f68a2a09a3d9",
   "metadata": {},
   "outputs": [
    {
     "name": "stderr",
     "output_type": "stream",
     "text": [
      "Exception in thread StatsThr:\n",
      "Traceback (most recent call last):\n",
      "  File \"/home/rom/anaconda3/envs/iil-cartpole/lib/python3.8/threading.py\", line 932, in _bootstrap_inner\n",
      "    self.run()\n",
      "  File \"/home/rom/anaconda3/envs/iil-cartpole/lib/python3.8/threading.py\", line 870, in run\n",
      "    self._target(*self._args, **self._kwargs)\n",
      "  File \"/home/rom/anaconda3/envs/iil-cartpole/lib/python3.8/site-packages/wandb/sdk/internal/stats.py\", line 133, in _thread_body\n",
      "    stats = self.stats()\n",
      "  File \"/home/rom/anaconda3/envs/iil-cartpole/lib/python3.8/site-packages/wandb/sdk/internal/stats.py\", line 179, in stats\n",
      "    handle = pynvml.nvmlDeviceGetHandleByIndex(i)\n",
      "  File \"/home/rom/anaconda3/envs/iil-cartpole/lib/python3.8/site-packages/wandb/vendor/pynvml/pynvml.py\", line 819, in nvmlDeviceGetHandleByIndex\n",
      "    _nvmlCheckReturn(ret)\n",
      "  File \"/home/rom/anaconda3/envs/iil-cartpole/lib/python3.8/site-packages/wandb/vendor/pynvml/pynvml.py\", line 310, in _nvmlCheckReturn\n",
      "    raise NVMLError(ret)\n",
      "wandb.vendor.pynvml.pynvml.NVMLError_Unknown: Unknown Error\n"
     ]
    }
   ],
   "source": [
    "hg_dagger_logs_paths = [f'data/logs/sl_training_noisy/{i}.p' for i in range(4,24)]\n",
    "iarl_logs_paths = [f'data/logs/iarl_training_noisy/{i}.p' for i in range(17,20)]\n",
    "rl_logs_paths = [f'data/logs/rl_training_noisy/{i}.p' for i in range(0,4)]\n",
    "reil_logs_paths = [f'data/logs/slrl_training_noisy/{i}.p' for i in range(0,20)]"
   ]
  },
  {
   "cell_type": "code",
   "execution_count": 9,
   "id": "4050ed8b-e9f7-43e1-aa99-89f7d08ce44a",
   "metadata": {},
   "outputs": [
    {
     "data": {
      "text/html": [
       "Finishing last run (ID:415cddf4) before initializing another..."
      ],
      "text/plain": [
       "<IPython.core.display.HTML object>"
      ]
     },
     "metadata": {},
     "output_type": "display_data"
    },
    {
     "name": "stderr",
     "output_type": "stream",
     "text": [
      "Exception in thread StatsThr:\n",
      "Traceback (most recent call last):\n",
      "  File \"/home/rom/anaconda3/envs/iil-cartpole/lib/python3.8/threading.py\", line 932, in _bootstrap_inner\n",
      "    self.run()\n",
      "  File \"/home/rom/anaconda3/envs/iil-cartpole/lib/python3.8/threading.py\", line 870, in run\n",
      "    self._target(*self._args, **self._kwargs)\n",
      "  File \"/home/rom/anaconda3/envs/iil-cartpole/lib/python3.8/site-packages/wandb/sdk/internal/stats.py\", line 133, in _thread_body\n",
      "    stats = self.stats()\n",
      "  File \"/home/rom/anaconda3/envs/iil-cartpole/lib/python3.8/site-packages/wandb/sdk/internal/stats.py\", line 179, in stats\n",
      "    handle = pynvml.nvmlDeviceGetHandleByIndex(i)\n",
      "  File \"/home/rom/anaconda3/envs/iil-cartpole/lib/python3.8/site-packages/wandb/vendor/pynvml/pynvml.py\", line 819, in nvmlDeviceGetHandleByIndex\n",
      "    _nvmlCheckReturn(ret)\n",
      "  File \"/home/rom/anaconda3/envs/iil-cartpole/lib/python3.8/site-packages/wandb/vendor/pynvml/pynvml.py\", line 310, in _nvmlCheckReturn\n",
      "    raise NVMLError(ret)\n",
      "wandb.vendor.pynvml.pynvml.NVMLError_Unknown: Unknown Error\n"
     ]
    },
    {
     "data": {
      "text/html": [
       "<br/>Waiting for W&B process to finish, PID 28034... <strong style=\"color:green\">(success).</strong>"
      ],
      "text/plain": [
       "<IPython.core.display.HTML object>"
      ]
     },
     "metadata": {},
     "output_type": "display_data"
    },
    {
     "data": {
      "text/html": [
       "<style>\n",
       "    table.wandb td:nth-child(1) { padding: 0 10px; text-align: right }\n",
       "    .wandb-row { display: flex; flex-direction: row; flex-wrap: wrap; width: 100% }\n",
       "    .wandb-col { display: flex; flex-direction: column; flex-basis: 100%; flex: 1; padding: 10px; }\n",
       "    </style>\n",
       "<div class=\"wandb-row\"><div class=\"wandb-col\">\n",
       "</div><div class=\"wandb-col\">\n",
       "</div></div>\n",
       "Synced 6 W&B file(s), 0 media file(s), 0 artifact file(s) and 0 other file(s)\n",
       "<br/>Synced <strong style=\"color:#cdcd00\">iil-cartpole-iarl</strong>: <a href=\"https://wandb.ai/ruke1ire/plot/runs/415cddf4\" target=\"_blank\">https://wandb.ai/ruke1ire/plot/runs/415cddf4</a><br/>\n",
       "Find logs at: <code>./wandb/run-20220224_190614-415cddf4/logs</code><br/>\n"
      ],
      "text/plain": [
       "<IPython.core.display.HTML object>"
      ]
     },
     "metadata": {},
     "output_type": "display_data"
    },
    {
     "data": {
      "text/html": [
       "Successfully finished last run (ID:415cddf4). Initializing new run:<br/>"
      ],
      "text/plain": [
       "<IPython.core.display.HTML object>"
      ]
     },
     "metadata": {},
     "output_type": "display_data"
    },
    {
     "name": "stderr",
     "output_type": "stream",
     "text": [
      "Exception in thread StatsThr:\n",
      "Traceback (most recent call last):\n",
      "  File \"/home/rom/anaconda3/envs/iil-cartpole/lib/python3.8/threading.py\", line 932, in _bootstrap_inner\n",
      "    self.run()\n",
      "  File \"/home/rom/anaconda3/envs/iil-cartpole/lib/python3.8/threading.py\", line 870, in run\n",
      "    self._target(*self._args, **self._kwargs)\n",
      "  File \"/home/rom/anaconda3/envs/iil-cartpole/lib/python3.8/site-packages/wandb/sdk/internal/stats.py\", line 133, in _thread_body\n",
      "    stats = self.stats()\n",
      "  File \"/home/rom/anaconda3/envs/iil-cartpole/lib/python3.8/site-packages/wandb/sdk/internal/stats.py\", line 179, in stats\n",
      "    handle = pynvml.nvmlDeviceGetHandleByIndex(i)\n",
      "  File \"/home/rom/anaconda3/envs/iil-cartpole/lib/python3.8/site-packages/wandb/vendor/pynvml/pynvml.py\", line 819, in nvmlDeviceGetHandleByIndex\n",
      "    _nvmlCheckReturn(ret)\n",
      "  File \"/home/rom/anaconda3/envs/iil-cartpole/lib/python3.8/site-packages/wandb/vendor/pynvml/pynvml.py\", line 310, in _nvmlCheckReturn\n",
      "    raise NVMLError(ret)\n",
      "wandb.vendor.pynvml.pynvml.NVMLError_Unknown: Unknown Error\n"
     ]
    },
    {
     "data": {
      "text/html": [
       "\n",
       "                    Syncing run <strong><a href=\"https://wandb.ai/ruke1ire/plot/runs/fd7df377\" target=\"_blank\">iil-cartpole-iarl</a></strong> to <a href=\"https://wandb.ai/ruke1ire/plot\" target=\"_blank\">Weights & Biases</a> (<a href=\"https://docs.wandb.com/integrations/jupyter.html\" target=\"_blank\">docs</a>).<br/>\n",
       "\n",
       "                "
      ],
      "text/plain": [
       "<IPython.core.display.HTML object>"
      ]
     },
     "metadata": {},
     "output_type": "display_data"
    },
    {
     "name": "stdout",
     "output_type": "stream",
     "text": [
      "[(16.0, 17.0, 14.0, 75.0, 75.0, 103.0, 31.0, 33.0, 45.0, 73.0, 54.0, 71.0, 259.0, 155.0, 303.0, 467.0, 81.0, 14.0, 71.0, 11.0, 12.0, 11.0, 38.0, 36.0, 50.0, 41.0, 43.0, 40.0, 43.0, 42.0, 38.0, 39.0, 108.0, 139.0, 10.0, 10.0, 11.0, 11.0, 11.0, 9.0, 10.0, 10.0, 9.0, 9.0, 8.0, 9.0, 10.0, 8.0, 9.0, 9.0, 8.0, 9.0, 8.0, 9.0, 9.0, 8.0, 8.0), (1.0, 1.0, 2.0, 24.0, 11.0, 16.0, 2.0, 2.0, 7.0, 6.0, 6.0, 5.0, 18.0, 10.0, 30.0, 37.0, 2.0, 1.0, 29.0, 2.0, 1.0, 1.0, 2.0, 2.0, 1.0, 1.0, 5.0, 9.0, 8.0, 6.0, 9.0, 1.0, 12.0, 1.0, 1.0, 2.0, 1.0, 1.0, 1.0, 1.0, 1.0, 1.0, 0.0, 0.0, 0.0, 1.0, 1.0, 1.0, 0.0, 0.0, 1.0, 1.0, 1.0, 1.0, 1.0, 1.0, 1.0), (7.5, 8.0, 6.0, 10.2, 16.0, 21.75, 14.5, 15.5, 12.666666666666666, 22.333333333333332, 16.0, 22.0, 40.166666666666664, 72.5, 45.5, 43.0, 39.5, 6.5, 7.0, 4.5, 5.5, 5.0, 18.0, 11.333333333333334, 24.5, 20.0, 12.666666666666666, 10.333333333333334, 11.666666666666666, 12.0, 9.666666666666666, 19.0, 24.0, 69.0, 4.5, 4.0, 5.0, 5.0, 5.0, 4.0, 4.5, 4.5, 4.5, 4.5, 4.0, 4.0, 4.5, 3.5, 4.5, 4.5, 3.5, 4.0, 3.5, 4.0, 4.0, 3.5, 3.5), [0, 16, 33, 47, 122, 197, 300, 331, 364, 409, 482, 536, 607, 866, 1021, 1324, 1791, 1872, 1886, 1957, 1968, 1980, 1991, 2029, 2065, 2115, 2156, 2199, 2239, 2282, 2324, 2362, 2401, 2509, 2648, 2658, 2668, 2679, 2690, 2701, 2710, 2720, 2730, 2739, 2748, 2756, 2765, 2775, 2783, 2792, 2801, 2809, 2818, 2826, 2835, 2844, 2852], [0, 1, 2, 4, 28, 39, 55, 57, 59, 66, 72, 78, 83, 101, 111, 141, 178, 180, 181, 210, 212, 213, 214, 216, 218, 219, 220, 225, 234, 242, 248, 257, 258, 270, 271, 272, 274, 275, 276, 277, 278, 279, 280, 280, 280, 280, 281, 282, 283, 283, 283, 284, 285, 286, 287, 288, 289]]\n"
     ]
    },
    {
     "data": {
      "text/html": [
       "<br/>Waiting for W&B process to finish, PID 28244... <strong style=\"color:green\">(success).</strong>"
      ],
      "text/plain": [
       "<IPython.core.display.HTML object>"
      ]
     },
     "metadata": {},
     "output_type": "display_data"
    },
    {
     "data": {
      "text/html": [
       "<style>\n",
       "    table.wandb td:nth-child(1) { padding: 0 10px; text-align: right }\n",
       "    .wandb-row { display: flex; flex-direction: row; flex-wrap: wrap; width: 100% }\n",
       "    .wandb-col { display: flex; flex-direction: column; flex-basis: 100%; flex: 1; padding: 10px; }\n",
       "    </style>\n",
       "<div class=\"wandb-row\"><div class=\"wandb-col\">\n",
       "<h3>Run history:</h3><br/><table class=\"wandb\"><tr><td>Average Agent Frames</td><td>▁▁▁▂▃▂▂▂▃▅▅▅▁▁▁▁▃▃▃▂▂▂▃█▁▁▁▁▁▁▁▁▁▁▁▁▁▁▁▁</td></tr><tr><td>Episode Length</td><td>▁▁▁▂▂▁▂▂▂▅▅█▁▂▁▁▁▂▂▁▂▁▁▃▁▁▁▁▁▁▁▁▁▁▁▁▁▁▁▁</td></tr><tr><td>Global Steps</td><td>▁▁▁▁▁▂▂▂▂▂▄▄▆▆▆▆▆▆▆▆▆▇▇▇▇███████████████</td></tr><tr><td>Global Supervised Steps</td><td>▁▁▁▂▂▂▂▃▃▃▄▄▅▅▆▆▆▆▆▆▇▇▇█████████████████</td></tr><tr><td>Supervised Frames</td><td>▁▁▁▃▄▁▂▂▂▄▇█▁▆▁▁▁▁▁▃▃▃▁▁▁▁▁▁▁▁▁▁▁▁▁▁▁▁▁▁</td></tr></table><br/></div><div class=\"wandb-col\">\n",
       "<h3>Run summary:</h3><br/><table class=\"wandb\"><tr><td>Average Agent Frames</td><td>3.5</td></tr><tr><td>Episode Length</td><td>8.0</td></tr><tr><td>Global Steps</td><td>2852</td></tr><tr><td>Global Supervised Steps</td><td>289</td></tr><tr><td>Supervised Frames</td><td>1.0</td></tr></table>\n",
       "</div></div>\n",
       "Synced 6 W&B file(s), 0 media file(s), 0 artifact file(s) and 0 other file(s)\n",
       "<br/>Synced <strong style=\"color:#cdcd00\">iil-cartpole-iarl</strong>: <a href=\"https://wandb.ai/ruke1ire/plot/runs/fd7df377\" target=\"_blank\">https://wandb.ai/ruke1ire/plot/runs/fd7df377</a><br/>\n",
       "Find logs at: <code>./wandb/run-20220224_190726-fd7df377/logs</code><br/>\n"
      ],
      "text/plain": [
       "<IPython.core.display.HTML object>"
      ]
     },
     "metadata": {},
     "output_type": "display_data"
    },
    {
     "name": "stderr",
     "output_type": "stream",
     "text": [
      "Exception in thread StatsThr:\n",
      "Traceback (most recent call last):\n",
      "  File \"/home/rom/anaconda3/envs/iil-cartpole/lib/python3.8/threading.py\", line 932, in _bootstrap_inner\n",
      "    self.run()\n",
      "  File \"/home/rom/anaconda3/envs/iil-cartpole/lib/python3.8/threading.py\", line 870, in run\n",
      "    self._target(*self._args, **self._kwargs)\n",
      "  File \"/home/rom/anaconda3/envs/iil-cartpole/lib/python3.8/site-packages/wandb/sdk/internal/stats.py\", line 133, in _thread_body\n",
      "    stats = self.stats()\n",
      "  File \"/home/rom/anaconda3/envs/iil-cartpole/lib/python3.8/site-packages/wandb/sdk/internal/stats.py\", line 179, in stats\n",
      "    handle = pynvml.nvmlDeviceGetHandleByIndex(i)\n",
      "  File \"/home/rom/anaconda3/envs/iil-cartpole/lib/python3.8/site-packages/wandb/vendor/pynvml/pynvml.py\", line 819, in nvmlDeviceGetHandleByIndex\n",
      "    _nvmlCheckReturn(ret)\n",
      "  File \"/home/rom/anaconda3/envs/iil-cartpole/lib/python3.8/site-packages/wandb/vendor/pynvml/pynvml.py\", line 310, in _nvmlCheckReturn\n",
      "    raise NVMLError(ret)\n",
      "wandb.vendor.pynvml.pynvml.NVMLError_Unknown: Unknown Error\n"
     ]
    },
    {
     "data": {
      "text/html": [
       "\n",
       "                    Syncing run <strong><a href=\"https://wandb.ai/ruke1ire/plot/runs/33805130\" target=\"_blank\">iil-cartpole-iarl</a></strong> to <a href=\"https://wandb.ai/ruke1ire/plot\" target=\"_blank\">Weights & Biases</a> (<a href=\"https://docs.wandb.com/integrations/jupyter.html\" target=\"_blank\">docs</a>).<br/>\n",
       "\n",
       "                "
      ],
      "text/plain": [
       "<IPython.core.display.HTML object>"
      ]
     },
     "metadata": {},
     "output_type": "display_data"
    },
    {
     "name": "stdout",
     "output_type": "stream",
     "text": [
      "[(21.0, 16.0, 78.0, 50.0, 75.0, 17.0, 55.0, 23.0, 111.0, 122.0, 129.0, 186.0, 365.0, 254.0, 254.0, 248.0, 252.0, 356.0, 3000.0, 3000.0), (1.0, 2.0, 20.0, 8.0, 7.0, 2.0, 4.0, 1.0, 23.0, 26.0, 23.0, 6.0, 31.0, 28.0, 17.0, 2.0, 2.0, 34.0, 23.0, 0.0), (10.0, 7.0, 14.5, 14.0, 22.666666666666668, 7.5, 17.0, 11.0, 22.0, 24.0, 35.333333333333336, 45.0, 41.75, 45.2, 59.25, 123.0, 125.0, 80.5, 992.3333333333334, 3000.0), [0, 21, 37, 115, 165, 240, 257, 312, 335, 446, 568, 697, 883, 1248, 1502, 1756, 2004, 2256, 2612, 5612], [0, 1, 3, 23, 31, 38, 40, 44, 45, 68, 94, 117, 123, 154, 182, 199, 201, 203, 237, 260]]\n"
     ]
    },
    {
     "data": {
      "text/html": [
       "<br/>Waiting for W&B process to finish, PID 28302... <strong style=\"color:green\">(success).</strong>"
      ],
      "text/plain": [
       "<IPython.core.display.HTML object>"
      ]
     },
     "metadata": {},
     "output_type": "display_data"
    },
    {
     "data": {
      "text/html": [
       "<style>\n",
       "    table.wandb td:nth-child(1) { padding: 0 10px; text-align: right }\n",
       "    .wandb-row { display: flex; flex-direction: row; flex-wrap: wrap; width: 100% }\n",
       "    .wandb-col { display: flex; flex-direction: column; flex-basis: 100%; flex: 1; padding: 10px; }\n",
       "    </style>\n",
       "<div class=\"wandb-row\"><div class=\"wandb-col\">\n",
       "<h3>Run history:</h3><br/><table class=\"wandb\"><tr><td>Average Agent Frames</td><td>▁▁▁▁▁▁▁▁▁▁▁▁▁▁▁▁▁▁▃█</td></tr><tr><td>Episode Length</td><td>▁▁▁▁▁▁▁▁▁▁▁▁▂▂▂▂▂▂██</td></tr><tr><td>Global Steps</td><td>▁▁▁▁▁▁▁▁▁▂▂▂▂▃▃▃▃▄▄█</td></tr><tr><td>Global Supervised Steps</td><td>▁▁▁▂▂▂▂▂▂▃▄▄▄▅▆▆▆▆▇█</td></tr><tr><td>Supervised Frames</td><td>▁▁▅▃▂▁▂▁▆▆▆▂▇▇▅▁▁█▆▁</td></tr></table><br/></div><div class=\"wandb-col\">\n",
       "<h3>Run summary:</h3><br/><table class=\"wandb\"><tr><td>Average Agent Frames</td><td>3000.0</td></tr><tr><td>Episode Length</td><td>3000.0</td></tr><tr><td>Global Steps</td><td>5612</td></tr><tr><td>Global Supervised Steps</td><td>260</td></tr><tr><td>Supervised Frames</td><td>0.0</td></tr></table>\n",
       "</div></div>\n",
       "Synced 6 W&B file(s), 0 media file(s), 0 artifact file(s) and 0 other file(s)\n",
       "<br/>Synced <strong style=\"color:#cdcd00\">iil-cartpole-iarl</strong>: <a href=\"https://wandb.ai/ruke1ire/plot/runs/33805130\" target=\"_blank\">https://wandb.ai/ruke1ire/plot/runs/33805130</a><br/>\n",
       "Find logs at: <code>./wandb/run-20220224_190739-33805130/logs</code><br/>\n"
      ],
      "text/plain": [
       "<IPython.core.display.HTML object>"
      ]
     },
     "metadata": {},
     "output_type": "display_data"
    },
    {
     "name": "stderr",
     "output_type": "stream",
     "text": [
      "Exception in thread StatsThr:\n",
      "Traceback (most recent call last):\n",
      "  File \"/home/rom/anaconda3/envs/iil-cartpole/lib/python3.8/threading.py\", line 932, in _bootstrap_inner\n",
      "    self.run()\n",
      "  File \"/home/rom/anaconda3/envs/iil-cartpole/lib/python3.8/threading.py\", line 870, in run\n",
      "    self._target(*self._args, **self._kwargs)\n",
      "  File \"/home/rom/anaconda3/envs/iil-cartpole/lib/python3.8/site-packages/wandb/sdk/internal/stats.py\", line 133, in _thread_body\n",
      "    stats = self.stats()\n",
      "  File \"/home/rom/anaconda3/envs/iil-cartpole/lib/python3.8/site-packages/wandb/sdk/internal/stats.py\", line 179, in stats\n",
      "    handle = pynvml.nvmlDeviceGetHandleByIndex(i)\n",
      "  File \"/home/rom/anaconda3/envs/iil-cartpole/lib/python3.8/site-packages/wandb/vendor/pynvml/pynvml.py\", line 819, in nvmlDeviceGetHandleByIndex\n",
      "    _nvmlCheckReturn(ret)\n",
      "  File \"/home/rom/anaconda3/envs/iil-cartpole/lib/python3.8/site-packages/wandb/vendor/pynvml/pynvml.py\", line 310, in _nvmlCheckReturn\n",
      "    raise NVMLError(ret)\n",
      "wandb.vendor.pynvml.pynvml.NVMLError_Unknown: Unknown Error\n"
     ]
    },
    {
     "data": {
      "text/html": [
       "\n",
       "                    Syncing run <strong><a href=\"https://wandb.ai/ruke1ire/plot/runs/3d3070ef\" target=\"_blank\">iil-cartpole-iarl</a></strong> to <a href=\"https://wandb.ai/ruke1ire/plot\" target=\"_blank\">Weights & Biases</a> (<a href=\"https://docs.wandb.com/integrations/jupyter.html\" target=\"_blank\">docs</a>).<br/>\n",
       "\n",
       "                "
      ],
      "text/plain": [
       "<IPython.core.display.HTML object>"
      ]
     },
     "metadata": {},
     "output_type": "display_data"
    },
    {
     "name": "stdout",
     "output_type": "stream",
     "text": [
      "[(24.0, 98.0, 76.0, 366.0, 253.0, 83.0, 167.0, 61.0, 171.0, 60.0, 57.0, 343.0, 79.0, 318.0, 92.0, 11.0, 11.0, 10.0, 11.0, 10.0, 9.0, 10.0, 10.0, 9.0, 9.0, 10.0, 10.0, 10.0, 9.0, 11.0, 10.0, 12.0, 12.0, 15.0, 56.0, 90.0, 414.0, 745.0, 49.0, 468.0, 99.0, 88.0, 85.0, 82.0, 13.0, 11.0, 11.0, 12.0, 84.0, 15.0, 16.0, 11.0, 13.0, 13.0, 14.0, 12.0, 10.0, 82.0, 10.0, 14.0, 15.0, 11.0, 50.0, 72.0, 70.0, 91.0, 119.0, 114.0, 94.0, 250.0, 486.0, 2136.0, 416.0, 331.0, 3000.0, 3000.0, 3000.0), (2.0, 12.0, 20.0, 53.0, 12.0, 6.0, 17.0, 1.0, 21.0, 1.0, 1.0, 22.0, 1.0, 17.0, 24.0, 2.0, 1.0, 1.0, 1.0, 1.0, 1.0, 1.0, 1.0, 0.0, 1.0, 1.0, 1.0, 1.0, 1.0, 1.0, 1.0, 2.0, 1.0, 2.0, 12.0, 23.0, 19.0, 24.0, 4.0, 75.0, 17.0, 29.0, 31.0, 28.0, 2.0, 2.0, 1.0, 2.0, 33.0, 2.0, 2.0, 1.0, 1.0, 1.0, 2.0, 1.0, 1.0, 38.0, 1.0, 2.0, 2.0, 2.0, 15.0, 23.0, 23.0, 31.0, 17.0, 8.0, 12.0, 23.0, 37.0, 155.0, 34.0, 10.0, 104.0, 87.0, 0.0), (11.0, 28.666666666666668, 11.2, 31.3, 60.25, 25.666666666666668, 30.0, 30.0, 30.0, 29.5, 28.0, 53.5, 39.0, 50.166666666666664, 13.6, 4.5, 5.0, 4.5, 5.0, 4.5, 4.0, 4.5, 4.5, 4.5, 4.0, 4.5, 4.5, 4.5, 4.0, 5.0, 4.5, 5.0, 5.5, 6.5, 14.666666666666666, 16.75, 98.75, 80.11111111111111, 15.0, 43.666666666666664, 16.4, 9.833333333333334, 9.0, 9.0, 5.5, 4.5, 5.0, 5.0, 8.5, 6.5, 7.0, 5.0, 6.0, 6.0, 6.0, 5.5, 4.5, 7.333333333333333, 4.5, 6.0, 6.5, 4.5, 7.0, 8.166666666666666, 7.833333333333333, 10.0, 25.5, 35.333333333333336, 16.4, 32.42857142857143, 74.83333333333333, 110.05555555555556, 127.33333333333333, 160.5, 362.0, 728.25, 3000.0), [0, 24, 122, 198, 564, 817, 900, 1067, 1128, 1299, 1359, 1416, 1759, 1838, 2156, 2248, 2259, 2270, 2280, 2291, 2301, 2310, 2320, 2330, 2339, 2348, 2358, 2368, 2378, 2387, 2398, 2408, 2420, 2432, 2447, 2503, 2593, 3007, 3752, 3801, 4269, 4368, 4456, 4541, 4623, 4636, 4647, 4658, 4670, 4754, 4769, 4785, 4796, 4809, 4822, 4836, 4848, 4858, 4940, 4950, 4964, 4979, 4990, 5040, 5112, 5182, 5273, 5392, 5506, 5600, 5850, 6336, 8472, 8888, 9219, 12219, 15219], [0, 2, 14, 34, 87, 99, 105, 122, 123, 144, 145, 146, 168, 169, 186, 210, 212, 213, 214, 215, 216, 217, 218, 219, 219, 220, 221, 222, 223, 224, 225, 226, 228, 229, 231, 243, 266, 285, 309, 313, 388, 405, 434, 465, 493, 495, 497, 498, 500, 533, 535, 537, 538, 539, 540, 542, 543, 544, 582, 583, 585, 587, 589, 604, 627, 650, 681, 698, 706, 718, 741, 778, 933, 967, 977, 1081, 1168]]\n"
     ]
    },
    {
     "data": {
      "text/html": [
       "<br/>Waiting for W&B process to finish, PID 28357... <strong style=\"color:green\">(success).</strong>"
      ],
      "text/plain": [
       "<IPython.core.display.HTML object>"
      ]
     },
     "metadata": {},
     "output_type": "display_data"
    },
    {
     "data": {
      "text/html": [
       "<style>\n",
       "    table.wandb td:nth-child(1) { padding: 0 10px; text-align: right }\n",
       "    .wandb-row { display: flex; flex-direction: row; flex-wrap: wrap; width: 100% }\n",
       "    .wandb-col { display: flex; flex-direction: column; flex-basis: 100%; flex: 1; padding: 10px; }\n",
       "    </style>\n",
       "<div class=\"wandb-row\"><div class=\"wandb-col\">\n",
       "<h3>Run history:</h3><br/><table class=\"wandb\"><tr><td>Average Agent Frames</td><td>▁▁▁▁▁▁▁▁▁▁▁▁▁▁▁▁▁▁▁▁▁▁▁▁▁▁▁▁▁▁▁▁▁▁▁▁▁▁▂█</td></tr><tr><td>Episode Length</td><td>▁▁▂▁▁▁▂▂▁▁▁▁▁▁▁▁▁▁▁▃▁▁▁▁▁▁▁▁▁▁▁▁▁▁▁▁▂▂██</td></tr><tr><td>Global Steps</td><td>▁▁▁▁▁▂▂▂▂▂▂▂▂▂▂▂▂▂▂▂▃▃▃▃▃▃▃▃▃▃▃▃▃▃▃▄▄▅▅█</td></tr><tr><td>Global Supervised Steps</td><td>▁▁▁▂▂▂▂▂▂▂▂▂▂▂▂▂▂▂▂▃▃▃▄▄▄▄▄▄▄▄▄▅▅▅▅▅▅▇▇█</td></tr><tr><td>Supervised Frames</td><td>▁▂▅▁▁▁▂▂▁▁▁▁▁▁▁▁▁▁▃▃▁▂▃▁▁▃▁▁▁▁▁▁▂▃▂▂▃▃█▁</td></tr></table><br/></div><div class=\"wandb-col\">\n",
       "<h3>Run summary:</h3><br/><table class=\"wandb\"><tr><td>Average Agent Frames</td><td>3000.0</td></tr><tr><td>Episode Length</td><td>3000.0</td></tr><tr><td>Global Steps</td><td>15219</td></tr><tr><td>Global Supervised Steps</td><td>1168</td></tr><tr><td>Supervised Frames</td><td>0.0</td></tr></table>\n",
       "</div></div>\n",
       "Synced 6 W&B file(s), 0 media file(s), 0 artifact file(s) and 0 other file(s)\n",
       "<br/>Synced <strong style=\"color:#cdcd00\">iil-cartpole-iarl</strong>: <a href=\"https://wandb.ai/ruke1ire/plot/runs/3d3070ef\" target=\"_blank\">https://wandb.ai/ruke1ire/plot/runs/3d3070ef</a><br/>\n",
       "Find logs at: <code>./wandb/run-20220224_190748-3d3070ef/logs</code><br/>\n"
      ],
      "text/plain": [
       "<IPython.core.display.HTML object>"
      ]
     },
     "metadata": {},
     "output_type": "display_data"
    }
   ],
   "source": [
    "import wandb\n",
    "import hashlib\n",
    "\n",
    "algorithm_name = \"iarl\"\n",
    "metrics_names = [\"Episode Length\", \"Supervised Frames\", \"Average Agent Frames\", \"Global Steps\", \"Global Supervised Steps\"]\n",
    "id_ = 3\n",
    "\n",
    "logs_paths = locals()[f\"{algorithm_name}_logs_paths\"]\n",
    "\n",
    "for path in logs_paths:\n",
    "    s = path+str(id_)\n",
    "    hash_id = hashlib.md5(s.encode()).hexdigest()[-8:]\n",
    "    run_wandb = wandb.init(reinit=True, project=\"plot\", entity=\"ruke1ire\",name = f'iil-cartpole-{algorithm_name}', id = hash_id)\n",
    "    \n",
    "    data = pickle.load(open(path,\"rb\"))\n",
    "    data = list(zip(*data))\n",
    "    \n",
    "    data[metrics_names.index(\"Global Supervised Steps\")] = [0]+list(data[metrics_names.index(\"Global Supervised Steps\")])[:-1]\n",
    "    data[metrics_names.index(\"Global Steps\")] = [0]+list(data[metrics_names.index(\"Global Steps\")])[:-1]\n",
    "    \n",
    "    print(data)\n",
    "\n",
    "    for i in range(len(data[0])):\n",
    "        log_dict = {name:data[metrics_names.index(name)][i] for name in metrics_names}\n",
    "        #print(log_dict)\n",
    "        wandb.log(log_dict)\n",
    "    run_wandb.finish()\n"
   ]
  },
  {
   "cell_type": "code",
   "execution_count": 38,
   "id": "0cfbdc2a-0715-4caa-bedb-f1eb26f8dc01",
   "metadata": {},
   "outputs": [
    {
     "data": {
      "text/plain": [
       "1"
      ]
     },
     "execution_count": 38,
     "metadata": {},
     "output_type": "execute_result"
    }
   ],
   "source": [
    "a = [1,2,3,]\n",
    "a.index(2)\n"
   ]
  },
  {
   "cell_type": "code",
   "execution_count": null,
   "id": "c90509a1-f199-4048-9433-65d02c0bb3c7",
   "metadata": {},
   "outputs": [],
   "source": []
  }
 ],
 "metadata": {
  "kernelspec": {
   "display_name": "Python 3 (ipykernel)",
   "language": "python",
   "name": "python3"
  },
  "language_info": {
   "codemirror_mode": {
    "name": "ipython",
    "version": 3
   },
   "file_extension": ".py",
   "mimetype": "text/x-python",
   "name": "python",
   "nbconvert_exporter": "python",
   "pygments_lexer": "ipython3",
   "version": "3.8.5"
  }
 },
 "nbformat": 4,
 "nbformat_minor": 5
}
