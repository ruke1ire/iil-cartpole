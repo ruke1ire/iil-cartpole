{
 "cells": [
  {
   "cell_type": "code",
   "execution_count": 1,
   "id": "026d319a-34bd-4972-a768-b859e51d20bc",
   "metadata": {},
   "outputs": [],
   "source": [
    "import pickle"
   ]
  },
  {
   "cell_type": "code",
   "execution_count": 2,
   "id": "58ad7a48-6b63-4edd-98b4-f68a2a09a3d9",
   "metadata": {},
   "outputs": [],
   "source": [
    "hg_dagger_logs_paths = [f'data/logs/sl_training_noisy/{i}.p' for i in range(4,12)]\n",
    "iarl_logs_paths = [f'data/logs/iarl_training_noisy/{i}.p' for i in range(0,8)]\n",
    "rl_logs_paths = [f'data/logs/rl_training_noisy/{i}.p' for i in range(0,4)]\n",
    "reil_logs_paths = [f'data/logs/slrl_training_noisy/{i}.p' for i in range(0,8)]"
   ]
  },
  {
   "cell_type": "code",
   "execution_count": 6,
   "id": "4050ed8b-e9f7-43e1-aa99-89f7d08ce44a",
   "metadata": {},
   "outputs": [
    {
     "name": "stderr",
     "output_type": "stream",
     "text": [
      "Exception in thread StatsThr:\n",
      "Traceback (most recent call last):\n",
      "  File \"/home/rom/anaconda3/envs/iil-cartpole/lib/python3.8/threading.py\", line 932, in _bootstrap_inner\n",
      "    self.run()\n",
      "  File \"/home/rom/anaconda3/envs/iil-cartpole/lib/python3.8/threading.py\", line 870, in run\n",
      "    self._target(*self._args, **self._kwargs)\n",
      "  File \"/home/rom/anaconda3/envs/iil-cartpole/lib/python3.8/site-packages/wandb/sdk/internal/stats.py\", line 133, in _thread_body\n",
      "    stats = self.stats()\n",
      "  File \"/home/rom/anaconda3/envs/iil-cartpole/lib/python3.8/site-packages/wandb/sdk/internal/stats.py\", line 179, in stats\n",
      "    handle = pynvml.nvmlDeviceGetHandleByIndex(i)\n",
      "  File \"/home/rom/anaconda3/envs/iil-cartpole/lib/python3.8/site-packages/wandb/vendor/pynvml/pynvml.py\", line 819, in nvmlDeviceGetHandleByIndex\n",
      "    _nvmlCheckReturn(ret)\n",
      "  File \"/home/rom/anaconda3/envs/iil-cartpole/lib/python3.8/site-packages/wandb/vendor/pynvml/pynvml.py\", line 310, in _nvmlCheckReturn\n",
      "    raise NVMLError(ret)\n",
      "wandb.vendor.pynvml.pynvml.NVMLError_Unknown: Unknown Error\n"
     ]
    },
    {
     "data": {
      "text/html": [
       "\n",
       "                    Syncing run <strong><a href=\"https://wandb.ai/ruke1ire/plot/runs/06db95ab\" target=\"_blank\">iil-cartpole-rl</a></strong> to <a href=\"https://wandb.ai/ruke1ire/plot\" target=\"_blank\">Weights & Biases</a> (<a href=\"https://docs.wandb.com/integrations/jupyter.html\" target=\"_blank\">docs</a>).<br/>\n",
       "\n",
       "                "
      ],
      "text/plain": [
       "<IPython.core.display.HTML object>"
      ]
     },
     "metadata": {},
     "output_type": "display_data"
    },
    {
     "name": "stdout",
     "output_type": "stream",
     "text": [
      "[(55.0, 24.0, 72.0, 26.0, 21.0, 18.0, 37.0, 20.0, 17.0, 17.0, 31.0, 80.0, 104.0, 133.0, 97.0, 126.0, 224.0, 176.0, 114.0, 125.0, 113.0, 122.0, 425.0, 427.0, 311.0, 161.0, 155.0, 141.0, 144.0, 128.0, 146.0, 175.0, 463.0, 400.0, 148.0, 144.0, 143.0, 153.0, 205.0, 550.0, 319.0, 345.0, 283.0, 253.0, 309.0, 1813.0, 2072.0, 3000.0, 3000.0, 3000.0, 3000.0), (10.0, 2.0, 11.0, 1.0, 1.0, 3.0, 2.0, 2.0, 1.0, 1.0, 2.0, 15.0, 27.0, 24.0, 28.0, 25.0, 9.0, 22.0, 6.0, 10.0, 8.0, 8.0, 71.0, 11.0, 8.0, 8.0, 8.0, 8.0, 7.0, 7.0, 7.0, 7.0, 8.0, 8.0, 8.0, 7.0, 7.0, 7.0, 8.0, 16.0, 9.0, 9.0, 8.0, 9.0, 11.0, 191.0, 192.0, 153.0, 211.0, 207.0, 0.0), (15.0, 11.0, 15.25, 12.5, 10.0, 7.5, 17.5, 9.0, 8.0, 8.0, 14.5, 13.0, 15.4, 21.8, 13.8, 25.25, 71.66666666666667, 25.666666666666668, 54.0, 28.75, 35.0, 57.0, 88.5, 208.0, 151.5, 76.5, 73.5, 66.5, 68.5, 60.5, 69.5, 84.0, 227.5, 196.0, 70.0, 68.5, 68.0, 73.0, 98.5, 267.0, 155.0, 168.0, 137.5, 122.0, 149.0, 135.16666666666666, 313.3333333333333, 711.75, 398.42857142857144, 349.125, 3000.0), [0, 55, 79, 151, 177, 198, 216, 253, 273, 290, 307, 338, 418, 522, 655, 752, 878, 1102, 1278, 1392, 1517, 1630, 1752, 2177, 2604, 2915, 3076, 3231, 3372, 3516, 3644, 3790, 3965, 4428, 4828, 4976, 5120, 5263, 5416, 5621, 6171, 6490, 6835, 7118, 7371, 7680, 9493, 11565, 14565, 17565, 20565], [0, 10, 12, 23, 24, 25, 28, 30, 32, 33, 34, 36, 51, 78, 102, 130, 155, 164, 186, 192, 202, 210, 218, 289, 300, 308, 316, 324, 332, 339, 346, 353, 360, 368, 376, 384, 391, 398, 405, 413, 429, 438, 447, 455, 464, 475, 666, 858, 1011, 1222, 1429]]\n"
     ]
    },
    {
     "data": {
      "text/html": [
       "<br/>Waiting for W&B process to finish, PID 31326... <strong style=\"color:green\">(success).</strong>"
      ],
      "text/plain": [
       "<IPython.core.display.HTML object>"
      ]
     },
     "metadata": {},
     "output_type": "display_data"
    },
    {
     "data": {
      "text/html": [
       "<style>\n",
       "    table.wandb td:nth-child(1) { padding: 0 10px; text-align: right }\n",
       "    .wandb-row { display: flex; flex-direction: row; flex-wrap: wrap; width: 100% }\n",
       "    .wandb-col { display: flex; flex-direction: column; flex-basis: 100%; flex: 1; padding: 10px; }\n",
       "    </style>\n",
       "<div class=\"wandb-row\"><div class=\"wandb-col\">\n",
       "<h3>Run history:</h3><br/><table class=\"wandb\"><tr><td>Average Agent Frames</td><td>▁▁▁▁▁▁▁▁▁▁▁▁▁▁▁▁▁▁▁▁▁▁▁▁▁▂▁▁▁▁▁▂▁▁▁▁▂▃▂█</td></tr><tr><td>Episode Length</td><td>▁▁▁▁▁▁▁▁▁▁▁▁▁▁▁▁▁▁▂▂▁▁▁▁▁▂▂▁▁▁▁▂▂▂▂▂▆███</td></tr><tr><td>Global Steps</td><td>▁▁▁▁▁▁▁▁▁▁▁▁▁▁▁▁▂▂▂▂▂▂▂▂▂▂▃▃▃▃▃▃▃▃▃▄▄▅▆█</td></tr><tr><td>Global Supervised Steps</td><td>▁▁▁▁▁▁▁▁▁▁▁▁▂▂▂▂▂▂▂▂▃▃▃▃▃▃▃▃▃▃▃▃▃▃▃▃▄▅▆█</td></tr><tr><td>Supervised Frames</td><td>▁▁▁▁▁▁▁▁▁▁▂▂▂▁▂▁▁▁▁▁▁▁▁▁▁▁▁▁▁▁▁▂▁▁▁▁▇▆█▁</td></tr></table><br/></div><div class=\"wandb-col\">\n",
       "<h3>Run summary:</h3><br/><table class=\"wandb\"><tr><td>Average Agent Frames</td><td>3000.0</td></tr><tr><td>Episode Length</td><td>3000.0</td></tr><tr><td>Global Steps</td><td>20565</td></tr><tr><td>Global Supervised Steps</td><td>1429</td></tr><tr><td>Supervised Frames</td><td>0.0</td></tr></table>\n",
       "</div></div>\n",
       "Synced 6 W&B file(s), 0 media file(s), 0 artifact file(s) and 0 other file(s)\n",
       "<br/>Synced <strong style=\"color:#cdcd00\">iil-cartpole-rl</strong>: <a href=\"https://wandb.ai/ruke1ire/plot/runs/06db95ab\" target=\"_blank\">https://wandb.ai/ruke1ire/plot/runs/06db95ab</a><br/>\n",
       "Find logs at: <code>./wandb/run-20220223_162844-06db95ab/logs</code><br/>\n"
      ],
      "text/plain": [
       "<IPython.core.display.HTML object>"
      ]
     },
     "metadata": {},
     "output_type": "display_data"
    },
    {
     "name": "stderr",
     "output_type": "stream",
     "text": [
      "Exception in thread StatsThr:\n",
      "Traceback (most recent call last):\n",
      "  File \"/home/rom/anaconda3/envs/iil-cartpole/lib/python3.8/threading.py\", line 932, in _bootstrap_inner\n",
      "    self.run()\n",
      "  File \"/home/rom/anaconda3/envs/iil-cartpole/lib/python3.8/threading.py\", line 870, in run\n",
      "    self._target(*self._args, **self._kwargs)\n",
      "  File \"/home/rom/anaconda3/envs/iil-cartpole/lib/python3.8/site-packages/wandb/sdk/internal/stats.py\", line 133, in _thread_body\n",
      "    stats = self.stats()\n",
      "  File \"/home/rom/anaconda3/envs/iil-cartpole/lib/python3.8/site-packages/wandb/sdk/internal/stats.py\", line 179, in stats\n",
      "    handle = pynvml.nvmlDeviceGetHandleByIndex(i)\n",
      "  File \"/home/rom/anaconda3/envs/iil-cartpole/lib/python3.8/site-packages/wandb/vendor/pynvml/pynvml.py\", line 819, in nvmlDeviceGetHandleByIndex\n",
      "    _nvmlCheckReturn(ret)\n",
      "  File \"/home/rom/anaconda3/envs/iil-cartpole/lib/python3.8/site-packages/wandb/vendor/pynvml/pynvml.py\", line 310, in _nvmlCheckReturn\n",
      "    raise NVMLError(ret)\n",
      "wandb.vendor.pynvml.pynvml.NVMLError_Unknown: Unknown Error\n"
     ]
    },
    {
     "data": {
      "text/html": [
       "\n",
       "                    Syncing run <strong><a href=\"https://wandb.ai/ruke1ire/plot/runs/24a7570a\" target=\"_blank\">iil-cartpole-rl</a></strong> to <a href=\"https://wandb.ai/ruke1ire/plot\" target=\"_blank\">Weights & Biases</a> (<a href=\"https://docs.wandb.com/integrations/jupyter.html\" target=\"_blank\">docs</a>).<br/>\n",
       "\n",
       "                "
      ],
      "text/plain": [
       "<IPython.core.display.HTML object>"
      ]
     },
     "metadata": {},
     "output_type": "display_data"
    },
    {
     "name": "stdout",
     "output_type": "stream",
     "text": [
      "[(18.0, 22.0, 19.0, 22.0, 18.0, 19.0, 18.0, 18.0, 23.0, 20.0, 17.0, 86.0, 99.0, 70.0, 59.0, 15.0, 42.0, 69.0, 77.0, 89.0, 94.0, 124.0, 98.0, 112.0, 92.0, 109.0, 131.0, 458.0, 343.0, 149.0, 176.0, 155.0, 205.0, 181.0, 160.0, 168.0, 181.0, 194.0, 206.0, 261.0, 723.0, 303.0, 232.0, 213.0, 182.0, 183.0, 177.0, 201.0, 210.0, 705.0, 865.0, 589.0, 662.0, 480.0, 454.0, 459.0, 305.0, 590.0, 3000.0, 3000.0), (2.0, 1.0, 1.0, 2.0, 1.0, 2.0, 1.0, 1.0, 2.0, 2.0, 1.0, 24.0, 7.0, 11.0, 14.0, 1.0, 7.0, 18.0, 19.0, 37.0, 24.0, 12.0, 14.0, 10.0, 8.0, 5.0, 5.0, 45.0, 12.0, 10.0, 9.0, 8.0, 8.0, 7.0, 8.0, 8.0, 9.0, 9.0, 11.0, 14.0, 8.0, 8.0, 9.0, 7.0, 8.0, 7.0, 9.0, 7.0, 8.0, 18.0, 10.0, 44.0, 46.0, 24.0, 9.0, 42.0, 6.0, 36.0, 7.0, 0.0), (8.0, 10.5, 9.0, 10.0, 8.5, 8.5, 8.5, 8.5, 10.5, 9.0, 8.0, 15.5, 30.666666666666668, 14.75, 11.25, 7.0, 11.666666666666666, 10.2, 11.6, 10.4, 14.0, 37.333333333333336, 28.0, 34.0, 28.0, 52.0, 63.0, 82.6, 165.5, 69.5, 83.5, 73.5, 98.5, 87.0, 76.0, 80.0, 86.0, 92.5, 97.5, 123.5, 357.5, 147.5, 111.5, 103.0, 87.0, 88.0, 84.0, 97.0, 101.0, 343.5, 427.5, 109.0, 123.2, 152.0, 222.5, 59.57142857142857, 149.5, 79.14285714285714, 748.25, 3000.0), [0, 18, 40, 59, 81, 99, 118, 136, 154, 177, 197, 214, 300, 399, 469, 528, 543, 585, 654, 731, 820, 914, 1038, 1136, 1248, 1340, 1449, 1580, 2038, 2381, 2530, 2706, 2861, 3066, 3247, 3407, 3575, 3756, 3950, 4156, 4417, 5140, 5443, 5675, 5888, 6070, 6253, 6430, 6631, 6841, 7546, 8411, 9000, 9662, 10142, 10596, 11055, 11360, 11950, 14950], [0, 2, 3, 4, 6, 7, 9, 10, 11, 13, 15, 16, 40, 47, 58, 72, 73, 80, 98, 117, 154, 178, 190, 204, 214, 222, 227, 232, 277, 289, 299, 308, 316, 324, 331, 339, 347, 356, 365, 376, 390, 398, 406, 415, 422, 430, 437, 446, 453, 461, 479, 489, 533, 579, 603, 612, 654, 660, 696, 703]]\n"
     ]
    },
    {
     "data": {
      "text/html": [
       "<br/>Waiting for W&B process to finish, PID 31363... <strong style=\"color:green\">(success).</strong>"
      ],
      "text/plain": [
       "<IPython.core.display.HTML object>"
      ]
     },
     "metadata": {},
     "output_type": "display_data"
    },
    {
     "data": {
      "text/html": [
       "<style>\n",
       "    table.wandb td:nth-child(1) { padding: 0 10px; text-align: right }\n",
       "    .wandb-row { display: flex; flex-direction: row; flex-wrap: wrap; width: 100% }\n",
       "    .wandb-col { display: flex; flex-direction: column; flex-basis: 100%; flex: 1; padding: 10px; }\n",
       "    </style>\n",
       "<div class=\"wandb-row\"><div class=\"wandb-col\">\n",
       "<h3>Run history:</h3><br/><table class=\"wandb\"><tr><td>Average Agent Frames</td><td>▁▁▁▁▁▁▁▁▁▁▁▁▁▁▁▁▁▁▁▁▁▁▁▁▁▁▁▂▁▁▁▁▁▂▁▁▂▁▁█</td></tr><tr><td>Episode Length</td><td>▁▁▁▁▁▁▁▁▁▁▁▁▁▁▁▁▁▁▂▂▁▁▁▁▁▁▂▃▂▁▁▁▁▃▂▃▂▂▂█</td></tr><tr><td>Global Steps</td><td>▁▁▁▁▁▁▁▁▁▁▁▁▁▁▁▁▂▂▂▂▂▂▂▃▃▃▃▃▄▄▄▄▄▄▅▅▆▆▆█</td></tr><tr><td>Global Supervised Steps</td><td>▁▁▁▁▁▁▁▁▁▁▂▂▂▂▃▃▃▃▃▄▄▄▄▄▄▅▅▅▅▅▅▅▆▆▆▆▇▇██</td></tr><tr><td>Supervised Frames</td><td>▁▁▁▁▁▁▁▁▂▃▁▂▄▇▃▃▂▂█▃▂▂▂▂▂▂▃▂▂▂▂▂▂▄██▂▇▆▁</td></tr></table><br/></div><div class=\"wandb-col\">\n",
       "<h3>Run summary:</h3><br/><table class=\"wandb\"><tr><td>Average Agent Frames</td><td>3000.0</td></tr><tr><td>Episode Length</td><td>3000.0</td></tr><tr><td>Global Steps</td><td>14950</td></tr><tr><td>Global Supervised Steps</td><td>703</td></tr><tr><td>Supervised Frames</td><td>0.0</td></tr></table>\n",
       "</div></div>\n",
       "Synced 6 W&B file(s), 0 media file(s), 0 artifact file(s) and 0 other file(s)\n",
       "<br/>Synced <strong style=\"color:#cdcd00\">iil-cartpole-rl</strong>: <a href=\"https://wandb.ai/ruke1ire/plot/runs/24a7570a\" target=\"_blank\">https://wandb.ai/ruke1ire/plot/runs/24a7570a</a><br/>\n",
       "Find logs at: <code>./wandb/run-20220223_162851-24a7570a/logs</code><br/>\n"
      ],
      "text/plain": [
       "<IPython.core.display.HTML object>"
      ]
     },
     "metadata": {},
     "output_type": "display_data"
    },
    {
     "name": "stderr",
     "output_type": "stream",
     "text": [
      "Exception in thread StatsThr:\n",
      "Traceback (most recent call last):\n",
      "  File \"/home/rom/anaconda3/envs/iil-cartpole/lib/python3.8/threading.py\", line 932, in _bootstrap_inner\n",
      "    self.run()\n",
      "  File \"/home/rom/anaconda3/envs/iil-cartpole/lib/python3.8/threading.py\", line 870, in run\n",
      "    self._target(*self._args, **self._kwargs)\n",
      "  File \"/home/rom/anaconda3/envs/iil-cartpole/lib/python3.8/site-packages/wandb/sdk/internal/stats.py\", line 133, in _thread_body\n",
      "    stats = self.stats()\n",
      "  File \"/home/rom/anaconda3/envs/iil-cartpole/lib/python3.8/site-packages/wandb/sdk/internal/stats.py\", line 179, in stats\n",
      "    handle = pynvml.nvmlDeviceGetHandleByIndex(i)\n",
      "  File \"/home/rom/anaconda3/envs/iil-cartpole/lib/python3.8/site-packages/wandb/vendor/pynvml/pynvml.py\", line 819, in nvmlDeviceGetHandleByIndex\n",
      "    _nvmlCheckReturn(ret)\n",
      "  File \"/home/rom/anaconda3/envs/iil-cartpole/lib/python3.8/site-packages/wandb/vendor/pynvml/pynvml.py\", line 310, in _nvmlCheckReturn\n",
      "    raise NVMLError(ret)\n",
      "wandb.vendor.pynvml.pynvml.NVMLError_Unknown: Unknown Error\n"
     ]
    },
    {
     "data": {
      "text/html": [
       "\n",
       "                    Syncing run <strong><a href=\"https://wandb.ai/ruke1ire/plot/runs/b290f420\" target=\"_blank\">iil-cartpole-rl</a></strong> to <a href=\"https://wandb.ai/ruke1ire/plot\" target=\"_blank\">Weights & Biases</a> (<a href=\"https://docs.wandb.com/integrations/jupyter.html\" target=\"_blank\">docs</a>).<br/>\n",
       "\n",
       "                "
      ],
      "text/plain": [
       "<IPython.core.display.HTML object>"
      ]
     },
     "metadata": {},
     "output_type": "display_data"
    },
    {
     "name": "stdout",
     "output_type": "stream",
     "text": [
      "[(18.0, 24.0, 12.0, 24.0, 15.0, 19.0, 15.0, 13.0, 16.0, 15.0, 15.0, 102.0, 142.0, 85.0, 72.0, 20.0, 62.0, 19.0, 74.0, 100.0, 105.0, 117.0, 114.0, 109.0, 133.0, 99.0, 124.0, 105.0, 154.0, 274.0, 169.0, 177.0, 227.0, 302.0, 238.0, 286.0, 311.0, 190.0, 151.0, 146.0, 140.0, 134.0, 152.0, 153.0, 161.0, 148.0, 164.0, 164.0, 237.0, 239.0, 233.0, 267.0, 269.0, 251.0, 244.0, 182.0, 188.0, 186.0, 211.0, 179.0, 277.0, 205.0, 185.0, 218.0, 189.0, 285.0, 233.0, 249.0, 359.0, 258.0, 168.0, 142.0, 126.0, 144.0, 125.0, 131.0, 135.0, 169.0, 150.0, 225.0, 321.0, 205.0, 225.0, 223.0, 214.0, 207.0, 217.0, 200.0, 319.0, 499.0, 216.0, 154.0, 284.0, 241.0, 361.0, 328.0, 295.0, 349.0, 410.0, 555.0, 543.0, 396.0, 348.0, 463.0, 266.0, 352.0, 332.0, 218.0, 302.0, 252.0, 278.0, 292.0, 312.0, 323.0, 291.0, 274.0, 267.0, 264.0, 233.0, 238.0, 246.0, 249.0, 229.0, 199.0, 257.0, 291.0, 294.0, 451.0, 644.0, 480.0, 523.0, 548.0, 185.0, 194.0, 185.0, 186.0, 160.0, 198.0, 235.0, 215.0, 271.0), (1.0, 1.0, 2.0, 1.0, 1.0, 2.0, 2.0, 2.0, 2.0, 2.0, 1.0, 30.0, 42.0, 25.0, 27.0, 2.0, 24.0, 2.0, 29.0, 22.0, 13.0, 6.0, 7.0, 10.0, 22.0, 12.0, 9.0, 7.0, 10.0, 20.0, 8.0, 9.0, 8.0, 8.0, 8.0, 8.0, 7.0, 7.0, 7.0, 8.0, 7.0, 8.0, 8.0, 8.0, 7.0, 7.0, 7.0, 8.0, 7.0, 7.0, 8.0, 8.0, 8.0, 8.0, 7.0, 8.0, 7.0, 8.0, 7.0, 7.0, 7.0, 7.0, 7.0, 7.0, 7.0, 7.0, 9.0, 10.0, 10.0, 7.0, 7.0, 8.0, 8.0, 7.0, 7.0, 7.0, 7.0, 7.0, 8.0, 8.0, 10.0, 10.0, 9.0, 9.0, 10.0, 10.0, 10.0, 11.0, 14.0, 15.0, 7.0, 8.0, 7.0, 7.0, 7.0, 7.0, 12.0, 8.0, 20.0, 8.0, 8.0, 8.0, 8.0, 7.0, 8.0, 8.0, 8.0, 7.0, 8.0, 8.0, 8.0, 8.0, 8.0, 8.0, 8.0, 8.0, 9.0, 8.0, 8.0, 8.0, 8.0, 8.0, 8.0, 8.0, 8.0, 9.0, 9.0, 9.0, 65.0, 94.0, 83.0, 67.0, 19.0, 14.0, 15.0, 11.0, 11.0, 12.0, 16.0, 12.0, 14.0), (8.5, 11.5, 5.0, 11.5, 7.0, 8.5, 6.5, 5.5, 7.0, 6.5, 7.0, 14.4, 16.666666666666668, 12.0, 11.25, 9.0, 9.5, 8.5, 9.0, 15.6, 23.0, 37.0, 53.5, 24.75, 37.0, 17.4, 38.333333333333336, 49.0, 72.0, 127.0, 80.5, 84.0, 109.5, 147.0, 115.0, 139.0, 152.0, 91.5, 72.0, 69.0, 66.5, 63.0, 72.0, 72.5, 77.0, 70.5, 78.5, 78.0, 115.0, 116.0, 112.5, 129.5, 130.5, 121.5, 118.5, 87.0, 90.5, 89.0, 102.0, 86.0, 135.0, 99.0, 89.0, 105.5, 91.0, 139.0, 112.0, 119.5, 174.5, 125.5, 80.5, 67.0, 59.0, 68.5, 59.0, 62.0, 64.0, 81.0, 71.0, 108.5, 155.5, 97.5, 108.0, 107.0, 102.0, 98.5, 103.5, 94.5, 152.5, 242.0, 104.5, 73.0, 138.5, 117.0, 177.0, 160.5, 141.5, 170.5, 195.0, 273.5, 267.5, 194.0, 170.0, 228.0, 129.0, 172.0, 162.0, 105.5, 147.0, 122.0, 135.0, 142.0, 152.0, 157.5, 141.5, 133.0, 129.0, 128.0, 112.5, 115.0, 119.0, 120.5, 110.5, 95.5, 124.5, 141.0, 142.5, 221.0, 193.0, 77.2, 88.0, 160.33333333333334, 83.0, 90.0, 85.0, 87.5, 74.5, 93.0, 109.5, 101.5, 128.5), [0, 18, 42, 54, 78, 93, 112, 127, 140, 156, 171, 186, 288, 430, 515, 587, 607, 669, 688, 762, 862, 967, 1084, 1198, 1307, 1440, 1539, 1663, 1768, 1922, 2196, 2365, 2542, 2769, 3071, 3309, 3595, 3906, 4096, 4247, 4393, 4533, 4667, 4819, 4972, 5133, 5281, 5445, 5609, 5846, 6085, 6318, 6585, 6854, 7105, 7349, 7531, 7719, 7905, 8116, 8295, 8572, 8777, 8962, 9180, 9369, 9654, 9887, 10136, 10495, 10753, 10921, 11063, 11189, 11333, 11458, 11589, 11724, 11893, 12043, 12268, 12589, 12794, 13019, 13242, 13456, 13663, 13880, 14080, 14399, 14898, 15114, 15268, 15552, 15793, 16154, 16482, 16777, 17126, 17536, 18091, 18634, 19030, 19378, 19841, 20107, 20459, 20791, 21009, 21311, 21563, 21841, 22133, 22445, 22768, 23059, 23333, 23600, 23864, 24097, 24335, 24581, 24830, 25059, 25258, 25515, 25806, 26100, 26551, 27195, 27675, 28198, 28746, 28931, 29125, 29310, 29496, 29656, 29854, 30089, 30304], [0, 1, 2, 4, 5, 6, 8, 10, 12, 14, 16, 17, 47, 89, 114, 141, 143, 167, 169, 198, 220, 233, 239, 246, 256, 278, 290, 299, 306, 316, 336, 344, 353, 361, 369, 377, 385, 392, 399, 406, 414, 421, 429, 437, 445, 452, 459, 466, 474, 481, 488, 496, 504, 512, 520, 527, 535, 542, 550, 557, 564, 571, 578, 585, 592, 599, 606, 615, 625, 635, 642, 649, 657, 665, 672, 679, 686, 693, 700, 708, 716, 726, 736, 745, 754, 764, 774, 784, 795, 809, 824, 831, 839, 846, 853, 860, 867, 879, 887, 907, 915, 923, 931, 939, 946, 954, 962, 970, 977, 985, 993, 1001, 1009, 1017, 1025, 1033, 1041, 1050, 1058, 1066, 1074, 1082, 1090, 1098, 1106, 1114, 1123, 1132, 1141, 1206, 1300, 1383, 1450, 1469, 1483, 1498, 1509, 1520, 1532, 1548, 1560]]\n"
     ]
    },
    {
     "data": {
      "text/html": [
       "<br/>Waiting for W&B process to finish, PID 31400... <strong style=\"color:green\">(success).</strong>"
      ],
      "text/plain": [
       "<IPython.core.display.HTML object>"
      ]
     },
     "metadata": {},
     "output_type": "display_data"
    },
    {
     "data": {
      "text/html": [
       "<style>\n",
       "    table.wandb td:nth-child(1) { padding: 0 10px; text-align: right }\n",
       "    .wandb-row { display: flex; flex-direction: row; flex-wrap: wrap; width: 100% }\n",
       "    .wandb-col { display: flex; flex-direction: column; flex-basis: 100%; flex: 1; padding: 10px; }\n",
       "    </style>\n",
       "<div class=\"wandb-row\"><div class=\"wandb-col\">\n",
       "<h3>Run history:</h3><br/><table class=\"wandb\"><tr><td>Average Agent Frames</td><td>▁▁▁▁▁▁▂▁▄▃▄▃▃▃▄▄▃▃▄▄▃▂▃▃▃▇▄▅█▇▄▄▅▄▄▃▇▅▃▄</td></tr><tr><td>Episode Length</td><td>▁▁▁▂▁▁▂▂▄▃▅▃▃▃▄▄▃▃▄▄▃▃▃▃▄▇▄▅█▇▄▄▅▄▄▃▇█▃▄</td></tr><tr><td>Global Steps</td><td>▁▁▁▁▁▁▁▁▁▂▂▂▂▂▂▃▃▃▃▃▄▄▄▄▄▄▅▅▅▆▆▆▆▆▇▇▇███</td></tr><tr><td>Global Supervised Steps</td><td>▁▁▁▁▂▂▂▂▂▃▃▃▃▃▃▃▃▄▄▄▄▄▄▄▄▅▅▅▅▅▅▅▆▆▆▆▆▇██</td></tr><tr><td>Supervised Frames</td><td>▁▁▁▄▁▁▂▂▃▂▂▂▂▂▂▂▂▂▂▂▂▂▂▂▂▂▂▂▂▂▂▂▂▂▂▂▂█▂▂</td></tr></table><br/></div><div class=\"wandb-col\">\n",
       "<h3>Run summary:</h3><br/><table class=\"wandb\"><tr><td>Average Agent Frames</td><td>128.5</td></tr><tr><td>Episode Length</td><td>271.0</td></tr><tr><td>Global Steps</td><td>30304</td></tr><tr><td>Global Supervised Steps</td><td>1560</td></tr><tr><td>Supervised Frames</td><td>14.0</td></tr></table>\n",
       "</div></div>\n",
       "Synced 6 W&B file(s), 0 media file(s), 0 artifact file(s) and 0 other file(s)\n",
       "<br/>Synced <strong style=\"color:#cdcd00\">iil-cartpole-rl</strong>: <a href=\"https://wandb.ai/ruke1ire/plot/runs/b290f420\" target=\"_blank\">https://wandb.ai/ruke1ire/plot/runs/b290f420</a><br/>\n",
       "Find logs at: <code>./wandb/run-20220223_162859-b290f420/logs</code><br/>\n"
      ],
      "text/plain": [
       "<IPython.core.display.HTML object>"
      ]
     },
     "metadata": {},
     "output_type": "display_data"
    },
    {
     "name": "stderr",
     "output_type": "stream",
     "text": [
      "Exception in thread StatsThr:\n",
      "Traceback (most recent call last):\n",
      "  File \"/home/rom/anaconda3/envs/iil-cartpole/lib/python3.8/threading.py\", line 932, in _bootstrap_inner\n",
      "    self.run()\n",
      "  File \"/home/rom/anaconda3/envs/iil-cartpole/lib/python3.8/threading.py\", line 870, in run\n",
      "    self._target(*self._args, **self._kwargs)\n",
      "  File \"/home/rom/anaconda3/envs/iil-cartpole/lib/python3.8/site-packages/wandb/sdk/internal/stats.py\", line 133, in _thread_body\n",
      "    stats = self.stats()\n",
      "  File \"/home/rom/anaconda3/envs/iil-cartpole/lib/python3.8/site-packages/wandb/sdk/internal/stats.py\", line 179, in stats\n",
      "    handle = pynvml.nvmlDeviceGetHandleByIndex(i)\n",
      "  File \"/home/rom/anaconda3/envs/iil-cartpole/lib/python3.8/site-packages/wandb/vendor/pynvml/pynvml.py\", line 819, in nvmlDeviceGetHandleByIndex\n",
      "    _nvmlCheckReturn(ret)\n",
      "  File \"/home/rom/anaconda3/envs/iil-cartpole/lib/python3.8/site-packages/wandb/vendor/pynvml/pynvml.py\", line 310, in _nvmlCheckReturn\n",
      "    raise NVMLError(ret)\n",
      "wandb.vendor.pynvml.pynvml.NVMLError_Unknown: Unknown Error\n"
     ]
    },
    {
     "data": {
      "text/html": [
       "\n",
       "                    Syncing run <strong><a href=\"https://wandb.ai/ruke1ire/plot/runs/7b33790f\" target=\"_blank\">iil-cartpole-rl</a></strong> to <a href=\"https://wandb.ai/ruke1ire/plot\" target=\"_blank\">Weights & Biases</a> (<a href=\"https://docs.wandb.com/integrations/jupyter.html\" target=\"_blank\">docs</a>).<br/>\n",
       "\n",
       "                "
      ],
      "text/plain": [
       "<IPython.core.display.HTML object>"
      ]
     },
     "metadata": {},
     "output_type": "display_data"
    },
    {
     "name": "stdout",
     "output_type": "stream",
     "text": [
      "[(55.0, 26.0, 19.0, 15.0, 24.0, 15.0, 16.0, 16.0, 11.0, 18.0, 18.0, 19.0, 16.0, 15.0, 19.0, 13.0, 61.0, 78.0, 152.0, 63.0, 114.0, 99.0, 100.0, 103.0, 163.0, 506.0, 211.0, 187.0, 310.0, 282.0, 150.0, 209.0, 207.0, 268.0, 182.0, 195.0, 222.0, 461.0, 311.0, 194.0, 181.0, 176.0, 163.0, 156.0, 170.0, 187.0, 199.0, 302.0, 274.0, 209.0, 212.0, 190.0, 201.0, 159.0, 174.0, 210.0, 152.0, 152.0, 132.0, 186.0, 212.0, 223.0, 204.0, 225.0, 218.0, 199.0, 205.0, 219.0, 244.0, 274.0, 350.0, 418.0, 733.0, 3000.0), (12.0, 1.0, 2.0, 3.0, 2.0, 2.0, 2.0, 1.0, 2.0, 1.0, 2.0, 1.0, 1.0, 2.0, 2.0, 2.0, 16.0, 22.0, 16.0, 6.0, 17.0, 24.0, 31.0, 17.0, 8.0, 11.0, 9.0, 9.0, 7.0, 6.0, 7.0, 7.0, 8.0, 10.0, 10.0, 12.0, 15.0, 94.0, 10.0, 7.0, 7.0, 8.0, 8.0, 8.0, 9.0, 7.0, 6.0, 8.0, 10.0, 8.0, 8.0, 9.0, 8.0, 9.0, 12.0, 9.0, 11.0, 10.0, 7.0, 13.0, 9.0, 9.0, 8.0, 9.0, 8.0, 9.0, 9.0, 8.0, 8.0, 10.0, 47.0, 40.0, 38.0, 0.0), (10.75, 12.5, 8.5, 6.0, 11.0, 6.5, 7.0, 7.5, 4.5, 8.5, 8.0, 9.0, 7.5, 6.5, 8.5, 5.5, 11.25, 14.0, 34.0, 19.0, 19.4, 15.0, 13.8, 17.2, 51.666666666666664, 165.0, 101.0, 89.0, 151.5, 138.0, 71.5, 101.0, 99.5, 129.0, 86.0, 91.5, 103.5, 73.4, 150.5, 93.5, 87.0, 84.0, 77.5, 74.0, 80.5, 90.0, 96.5, 147.0, 132.0, 100.5, 102.0, 90.5, 96.5, 75.0, 81.0, 100.5, 70.5, 71.0, 62.5, 86.5, 101.5, 107.0, 98.0, 108.0, 105.0, 95.0, 98.0, 105.5, 118.0, 132.0, 60.6, 94.5, 231.66666666666666, 3000.0), [0, 55, 81, 100, 115, 139, 154, 170, 186, 197, 215, 233, 252, 268, 283, 302, 315, 376, 454, 606, 669, 783, 882, 982, 1085, 1248, 1754, 1965, 2152, 2462, 2744, 2894, 3103, 3310, 3578, 3760, 3955, 4177, 4638, 4949, 5143, 5324, 5500, 5663, 5819, 5989, 6176, 6375, 6677, 6951, 7160, 7372, 7562, 7763, 7922, 8096, 8306, 8458, 8610, 8742, 8928, 9140, 9363, 9567, 9792, 10010, 10209, 10414, 10633, 10877, 11151, 11501, 11919, 12652], [0, 12, 13, 15, 18, 20, 22, 24, 25, 27, 28, 30, 31, 32, 34, 36, 38, 54, 76, 92, 98, 115, 139, 170, 187, 195, 206, 215, 224, 231, 237, 244, 251, 259, 269, 279, 291, 306, 400, 410, 417, 424, 432, 440, 448, 457, 464, 470, 478, 488, 496, 504, 513, 521, 530, 542, 551, 562, 572, 579, 592, 601, 610, 618, 627, 635, 644, 653, 661, 669, 679, 726, 766, 804]]\n"
     ]
    },
    {
     "data": {
      "text/html": [
       "<br/>Waiting for W&B process to finish, PID 31437... <strong style=\"color:green\">(success).</strong>"
      ],
      "text/plain": [
       "<IPython.core.display.HTML object>"
      ]
     },
     "metadata": {},
     "output_type": "display_data"
    },
    {
     "data": {
      "text/html": [
       "<style>\n",
       "    table.wandb td:nth-child(1) { padding: 0 10px; text-align: right }\n",
       "    .wandb-row { display: flex; flex-direction: row; flex-wrap: wrap; width: 100% }\n",
       "    .wandb-col { display: flex; flex-direction: column; flex-basis: 100%; flex: 1; padding: 10px; }\n",
       "    </style>\n",
       "<div class=\"wandb-row\"><div class=\"wandb-col\">\n",
       "<h3>Run history:</h3><br/><table class=\"wandb\"><tr><td>Average Agent Frames</td><td>▁▁▁▁▁▁▁▁▁▁▁▁▁▁▁▁▁▁▁▁▁▁▁▁▁▁▁▁▁▁▁▁▁▁▁▁▁▁▁█</td></tr><tr><td>Episode Length</td><td>▁▁▁▁▁▁▁▁▁▁▁▁▁▁▁▂▂▁▂▁▂▁▁▁▁▁▂▁▁▁▁▁▁▁▁▁▁▂▂█</td></tr><tr><td>Global Steps</td><td>▁▁▁▁▁▁▁▁▁▁▁▁▁▂▂▂▂▃▃▃▃▄▄▄▄▄▅▅▅▅▆▆▆▆▆▇▇▇▇█</td></tr><tr><td>Global Supervised Steps</td><td>▁▁▁▁▁▁▁▁▁▁▂▂▂▃▃▃▃▃▃▃▄▅▅▅▅▅▅▅▅▆▆▆▆▆▆▇▇▇▇█</td></tr><tr><td>Supervised Frames</td><td>▂▁▁▁▁▁▁▁▁▂▂▂▃▂▂▂▁▂▂▂█▂▂▂▂▁▂▂▂▂▂▂▂▂▂▂▂▂▄▁</td></tr></table><br/></div><div class=\"wandb-col\">\n",
       "<h3>Run summary:</h3><br/><table class=\"wandb\"><tr><td>Average Agent Frames</td><td>3000.0</td></tr><tr><td>Episode Length</td><td>3000.0</td></tr><tr><td>Global Steps</td><td>12652</td></tr><tr><td>Global Supervised Steps</td><td>804</td></tr><tr><td>Supervised Frames</td><td>0.0</td></tr></table>\n",
       "</div></div>\n",
       "Synced 6 W&B file(s), 0 media file(s), 0 artifact file(s) and 0 other file(s)\n",
       "<br/>Synced <strong style=\"color:#cdcd00\">iil-cartpole-rl</strong>: <a href=\"https://wandb.ai/ruke1ire/plot/runs/7b33790f\" target=\"_blank\">https://wandb.ai/ruke1ire/plot/runs/7b33790f</a><br/>\n",
       "Find logs at: <code>./wandb/run-20220223_162907-7b33790f/logs</code><br/>\n"
      ],
      "text/plain": [
       "<IPython.core.display.HTML object>"
      ]
     },
     "metadata": {},
     "output_type": "display_data"
    }
   ],
   "source": [
    "import wandb\n",
    "import hashlib\n",
    "\n",
    "algorithm_name = \"rl\"\n",
    "metrics_names = [\"Episode Length\", \"Supervised Frames\", \"Average Agent Frames\", \"Global Steps\", \"Global Supervised Steps\"]\n",
    "id_ = 1\n",
    "\n",
    "logs_paths = locals()[f\"{algorithm_name}_logs_paths\"]\n",
    "\n",
    "for path in logs_paths:\n",
    "    s = path+str(id_)\n",
    "    hash_id = hashlib.md5(s.encode()).hexdigest()[-8:]\n",
    "    run_wandb = wandb.init(reinit=True, project=\"plot\", entity=\"ruke1ire\",name = f'iil-cartpole-{algorithm_name}', id = hash_id)\n",
    "    \n",
    "    data = pickle.load(open(path,\"rb\"))\n",
    "    data = list(zip(*data))\n",
    "    \n",
    "    data[metrics_names.index(\"Global Supervised Steps\")] = [0]+list(data[metrics_names.index(\"Global Supervised Steps\")])[:-1]\n",
    "    data[metrics_names.index(\"Global Steps\")] = [0]+list(data[metrics_names.index(\"Global Steps\")])[:-1]\n",
    "    \n",
    "    print(data)\n",
    "\n",
    "    for i in range(len(data[0])):\n",
    "        log_dict = {name:data[metrics_names.index(name)][i] for name in metrics_names}\n",
    "        #print(log_dict)\n",
    "        wandb.log(log_dict)\n",
    "    run_wandb.finish()\n"
   ]
  },
  {
   "cell_type": "code",
   "execution_count": 38,
   "id": "0cfbdc2a-0715-4caa-bedb-f1eb26f8dc01",
   "metadata": {},
   "outputs": [
    {
     "data": {
      "text/plain": [
       "1"
      ]
     },
     "execution_count": 38,
     "metadata": {},
     "output_type": "execute_result"
    }
   ],
   "source": [
    "a = [1,2,3,]\n",
    "a.index(2)\n"
   ]
  },
  {
   "cell_type": "code",
   "execution_count": null,
   "id": "c90509a1-f199-4048-9433-65d02c0bb3c7",
   "metadata": {},
   "outputs": [],
   "source": []
  }
 ],
 "metadata": {
  "kernelspec": {
   "display_name": "Python 3 (ipykernel)",
   "language": "python",
   "name": "python3"
  },
  "language_info": {
   "codemirror_mode": {
    "name": "ipython",
    "version": 3
   },
   "file_extension": ".py",
   "mimetype": "text/x-python",
   "name": "python",
   "nbconvert_exporter": "python",
   "pygments_lexer": "ipython3",
   "version": "3.8.5"
  }
 },
 "nbformat": 4,
 "nbformat_minor": 5
}
