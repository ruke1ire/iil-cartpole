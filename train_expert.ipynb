{
 "cells": [
  {
   "cell_type": "code",
   "execution_count": null,
   "id": "7cd0dce8-b96c-4899-813e-7b8fed602a92",
   "metadata": {},
   "outputs": [],
   "source": [
    "from model import *\n",
    "from algorithms import *\n",
    "from utils import *\n",
    "from trainer import *\n",
    "from env import * \n",
    "from logger import *\n",
    "\n",
    "from IPython.display import clear_output"
   ]
  },
  {
   "cell_type": "code",
   "execution_count": null,
   "id": "6fc6fcc7-739f-4b11-ab7b-229fd93e6307",
   "metadata": {},
   "outputs": [],
   "source": [
    "env = MaxStepContinuousCartPoleEnv()"
   ]
  },
  {
   "cell_type": "code",
   "execution_count": null,
   "id": "7660371f-aa8c-444f-810a-f7b36d92dd42",
   "metadata": {},
   "outputs": [],
   "source": [
    "actor_model = ExpertModel()\n",
    "critic_model = NNCritic()"
   ]
  },
  {
   "cell_type": "code",
   "execution_count": null,
   "id": "ef40a3b7-44a9-43e8-bb6c-48945e3839c4",
   "metadata": {},
   "outputs": [],
   "source": [
    "trainer_config = dict(\n",
    "    actor_optimizer_name = \"Adam\",\n",
    "    actor_optimizer_kwargs = dict(lr = 1e-5, weight_decay = 1e-4),\n",
    "    critic_optimizer_name = \"Adam\",\n",
    "    critic_optimizer_kwargs = dict(lr = 1e-4),\n",
    "    discount = 0.99, \n",
    "    tau = 0.05, \n",
    "    noise = 0.2, \n",
    "    actor_update_period = 2,\n",
    "    batch_size = 24,\n",
    "    )\n",
    "\n",
    "algorithm_config = dict(\n",
    "    replay_buffer_size = int(1e6),\n",
    "    noise = 0.2)"
   ]
  },
  {
   "cell_type": "code",
   "execution_count": null,
   "id": "08689d57-63d1-4e97-b3ab-2f5728934a1e",
   "metadata": {},
   "outputs": [],
   "source": [
    "replay_buffer = ReplayBuffer(algorithm_config['replay_buffer_size'])"
   ]
  },
  {
   "cell_type": "code",
   "execution_count": null,
   "id": "1a6e8891-c0a8-4005-a31f-f6c05b6b69bd",
   "metadata": {},
   "outputs": [],
   "source": [
    "trainer = SLRL(\n",
    "    actor_model,\n",
    "    critic_model,\n",
    "    replay_buffer = replay_buffer,\n",
    "    only_rl = True,\n",
    "    device = 'cpu',\n",
    "    **trainer_config)"
   ]
  },
  {
   "cell_type": "code",
   "execution_count": null,
   "id": "382d2fa9-183d-42b3-bc93-a8e47565f889",
   "metadata": {},
   "outputs": [],
   "source": [
    "logger = WandbLogger(name = \"Training Expert\", id = 1, config_dict = dict(trainer = trainer_config, algorithm = algorithm_config))"
   ]
  },
  {
   "cell_type": "code",
   "execution_count": null,
   "id": "02327024-ff83-4532-afff-7c62d0d2edf5",
   "metadata": {},
   "outputs": [],
   "source": [
    "algo = RL_algorithm(env, trainer, replay_buffer, noise = algorithm_config['noise'], logger = logger)"
   ]
  },
  {
   "cell_type": "code",
   "execution_count": null,
   "id": "e282ccb2-ced8-47b9-8d46-387f7d452f89",
   "metadata": {},
   "outputs": [],
   "source": [
    "while True:\n",
    "    algo.run(10)\n",
    "    clear_output(wait=True)"
   ]
  },
  {
   "cell_type": "code",
   "execution_count": null,
   "id": "7e469bde-7919-45df-acf9-a923c48875f6",
   "metadata": {},
   "outputs": [],
   "source": [
    "len(replay_buffer)"
   ]
  },
  {
   "cell_type": "code",
   "execution_count": null,
   "id": "e77de9b7-099b-460c-acd5-f22825ee18c3",
   "metadata": {},
   "outputs": [],
   "source": []
  }
 ],
 "metadata": {
  "kernelspec": {
   "display_name": "Python 3 (ipykernel)",
   "language": "python",
   "name": "python3"
  },
  "language_info": {
   "codemirror_mode": {
    "name": "ipython",
    "version": 3
   },
   "file_extension": ".py",
   "mimetype": "text/x-python",
   "name": "python",
   "nbconvert_exporter": "python",
   "pygments_lexer": "ipython3",
   "version": "3.8.5"
  }
 },
 "nbformat": 4,
 "nbformat_minor": 5
}
