{
 "cells": [
  {
   "cell_type": "code",
   "execution_count": 1,
   "id": "7cd0dce8-b96c-4899-813e-7b8fed602a92",
   "metadata": {},
   "outputs": [],
   "source": [
    "from model import *\n",
    "from algorithms import *\n",
    "from utils import *\n",
    "from trainer import *\n",
    "from env import * \n",
    "from logger import *\n",
    "\n",
    "from IPython.display import clear_output"
   ]
  },
  {
   "cell_type": "code",
   "execution_count": 2,
   "id": "6fc6fcc7-739f-4b11-ab7b-229fd93e6307",
   "metadata": {},
   "outputs": [
    {
     "name": "stderr",
     "output_type": "stream",
     "text": [
      "/home/rom/anaconda3/envs/iil-cartpole/lib/python3.8/site-packages/gym/spaces/box.py:73: UserWarning: \u001b[33mWARN: Box bound precision lowered by casting to float32\u001b[0m\n",
      "  logger.warn(\n"
     ]
    }
   ],
   "source": [
    "env = MaxStepContinuousCartPoleEnv()"
   ]
  },
  {
   "cell_type": "code",
   "execution_count": 3,
   "id": "7660371f-aa8c-444f-810a-f7b36d92dd42",
   "metadata": {},
   "outputs": [],
   "source": [
    "actor_model = ExpertModel()\n",
    "critic_model = NNCritic()"
   ]
  },
  {
   "cell_type": "code",
   "execution_count": 4,
   "id": "ef40a3b7-44a9-43e8-bb6c-48945e3839c4",
   "metadata": {},
   "outputs": [],
   "source": [
    "trainer_config = dict(\n",
    "    actor_optimizer_name = \"Adam\",\n",
    "    actor_optimizer_kwargs = dict(lr = 1e-6, weight_decay = 1e-4),\n",
    "    critic_optimizer_name = \"Adam\",\n",
    "    critic_optimizer_kwargs = dict(lr = 1e-4),\n",
    "    discount = 0.99, \n",
    "    tau = 0.05, \n",
    "    noise = 0.2, \n",
    "    actor_update_period = 2,\n",
    "    batch_size = 24,\n",
    "    )\n",
    "\n",
    "algorithm_config = dict(\n",
    "    replay_buffer_size = int(1e6),\n",
    "    noise = 0.2)"
   ]
  },
  {
   "cell_type": "code",
   "execution_count": 5,
   "id": "08689d57-63d1-4e97-b3ab-2f5728934a1e",
   "metadata": {},
   "outputs": [],
   "source": [
    "replay_buffer = ReplayBuffer(algorithm_config['replay_buffer_size'])"
   ]
  },
  {
   "cell_type": "code",
   "execution_count": 6,
   "id": "1a6e8891-c0a8-4005-a31f-f6c05b6b69bd",
   "metadata": {},
   "outputs": [],
   "source": [
    "trainer = SLRL(\n",
    "    actor_model,\n",
    "    critic_model,\n",
    "    replay_buffer = replay_buffer,\n",
    "    only_rl = True,\n",
    "    device = 'cpu',\n",
    "    **trainer_config)"
   ]
  },
  {
   "cell_type": "code",
   "execution_count": 7,
   "id": "382d2fa9-183d-42b3-bc93-a8e47565f889",
   "metadata": {},
   "outputs": [
    {
     "name": "stderr",
     "output_type": "stream",
     "text": [
      "\u001b[34m\u001b[1mwandb\u001b[0m: Currently logged in as: \u001b[33mruke1ire\u001b[0m (use `wandb login --relogin` to force relogin)\n"
     ]
    },
    {
     "data": {
      "text/html": [
       "\n",
       "                    Resuming run <strong><a href=\"https://wandb.ai/ruke1ire/iil-cartpole/runs/a247c51a\" target=\"_blank\">Training Expert</a></strong> to <a href=\"https://wandb.ai/ruke1ire/iil-cartpole\" target=\"_blank\">Weights & Biases</a> (<a href=\"https://docs.wandb.com/integrations/jupyter.html\" target=\"_blank\">docs</a>).<br/>\n",
       "\n",
       "                "
      ],
      "text/plain": [
       "<IPython.core.display.HTML object>"
      ]
     },
     "metadata": {},
     "output_type": "display_data"
    }
   ],
   "source": [
    "logger = WandbLogger(name = \"Training Expert\", id = 0, config_dict = dict(trainer = trainer_config, algorithm = algorithm_config))"
   ]
  },
  {
   "cell_type": "code",
   "execution_count": 8,
   "id": "02327024-ff83-4532-afff-7c62d0d2edf5",
   "metadata": {},
   "outputs": [],
   "source": [
    "algo = RL_algorithm(env, trainer, replay_buffer, noise = algorithm_config['noise'], logger = logger)"
   ]
  },
  {
   "cell_type": "code",
   "execution_count": null,
   "id": "e282ccb2-ced8-47b9-8d46-387f7d452f89",
   "metadata": {},
   "outputs": [
    {
     "name": "stdout",
     "output_type": "stream",
     "text": [
      "Episode No.: 1\t[Episode Length: 34]\n",
      "Episode No.: 2\t[Episode Length: 30]\n",
      "Episode No.: 3\t"
     ]
    }
   ],
   "source": [
    "while True:\n",
    "    algo.run(10)\n",
    "    clear_output(wait=True)"
   ]
  },
  {
   "cell_type": "code",
   "execution_count": null,
   "id": "7e469bde-7919-45df-acf9-a923c48875f6",
   "metadata": {},
   "outputs": [],
   "source": [
    "len(replay_buffer)"
   ]
  },
  {
   "cell_type": "code",
   "execution_count": null,
   "id": "e77de9b7-099b-460c-acd5-f22825ee18c3",
   "metadata": {},
   "outputs": [],
   "source": []
  }
 ],
 "metadata": {
  "kernelspec": {
   "display_name": "Python 3 (ipykernel)",
   "language": "python",
   "name": "python3"
  },
  "language_info": {
   "codemirror_mode": {
    "name": "ipython",
    "version": 3
   },
   "file_extension": ".py",
   "mimetype": "text/x-python",
   "name": "python",
   "nbconvert_exporter": "python",
   "pygments_lexer": "ipython3",
   "version": "3.8.5"
  }
 },
 "nbformat": 4,
 "nbformat_minor": 5
}
