{
 "cells": [
  {
   "cell_type": "code",
   "execution_count": 1,
   "id": "c91a2dab-822c-49ad-ac68-537a560674ae",
   "metadata": {},
   "outputs": [],
   "source": [
    "from model import *\n",
    "from algorithms import *\n",
    "from utils import *\n",
    "from trainer import *\n",
    "from env import * \n",
    "from logger import *\n",
    "\n",
    "from IPython.display import clear_output\n",
    "\n",
    "import torch\n",
    "import os\n",
    "\n",
    "env = MaxStepContinuousCartPoleEnv()\n",
    "\n",
    "actor_model = NNActor()\n",
    "critic_model = NNCritic()\n",
    "\n",
    "expert_model = NNActor()\n",
    "expert_model.load_state_dict(torch.load(\"data/model/expert_training/5/12700.pth\"))\n",
    "expert_model.eval()\n",
    "\n",
    "trainer_config = dict(\n",
    "    actor_optimizer_name = \"Adam\",\n",
    "    actor_optimizer_kwargs = dict(lr = 1e-6, weight_decay = 1e-4),\n",
    "    critic_optimizer_name = \"Adam\",\n",
    "    critic_optimizer_kwargs = dict(lr = 1e-4),\n",
    "    discount = 0.99, \n",
    "    tau = 0.005, \n",
    "    noise = 0.2, \n",
    "    actor_update_period = 2,\n",
    "    batch_size = 24,\n",
    "    )\n",
    "\n",
    "algorithm_config = dict(\n",
    "    replay_buffer_size = int(1e6),\n",
    "    noise = 0.2)\n",
    "\n",
    "replay_buffer = ReplayBuffer(algorithm_config['replay_buffer_size'])\n",
    "\n",
    "trainer = SLRL(\n",
    "    actor_model,\n",
    "    critic_model,\n",
    "    replay_buffer = replay_buffer,\n",
    "    only_rl = True,\n",
    "    device = 'cpu',\n",
    "    **trainer_config)\n",
    "\n",
    "logger = WandbLogger(name = \"Training Agent [RL]\", id = 6, config_dict = dict(trainer = trainer_config, algorithm = algorithm_config))\n",
    "\n",
    "algo = IIL_algorithm(env, trainer, expert_model, replay_buffer, noise = algorithm_config['noise'], logger = logger)\n",
    "\n",
    "while True:\n",
    "    algo.run(10)\n",
    "    clear_output(wait=True)"
   ]
  },
  {
   "cell_type": "code",
   "execution_count": null,
   "id": "7e469bde-7919-45df-acf9-a923c48875f6",
   "metadata": {},
   "outputs": [],
   "source": [
    "len(replay_buffer)"
   ]
  },
  {
   "cell_type": "code",
   "execution_count": null,
   "id": "e77de9b7-099b-460c-acd5-f22825ee18c3",
   "metadata": {},
   "outputs": [],
   "source": []
  }
 ],
 "metadata": {
  "kernelspec": {
   "display_name": "Python 3 (ipykernel)",
   "language": "python",
   "name": "python3"
  },
  "language_info": {
   "codemirror_mode": {
    "name": "ipython",
    "version": 3
   },
   "file_extension": ".py",
   "mimetype": "text/x-python",
   "name": "python",
   "nbconvert_exporter": "python",
   "pygments_lexer": "ipython3",
   "version": "3.8.5"
  }
 },
 "nbformat": 4,
 "nbformat_minor": 5
}
